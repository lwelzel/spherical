{
 "cells": [
  {
   "cell_type": "markdown",
   "metadata": {},
   "source": [
    "# The Ultimate Sphere Observation Table ...\n",
    "\n",
    "The tables used here have been made by analyzing the headers of the roughly 200,000 files taken with Sphere since it started. We look for the coordinates and match them to the closest SIMBAD star-like object (under the assumption that all host-stars that have been observed were... stars. For the GTO table this is pretty much certain, for non-GTO observations the list has to be taken with a grain of salt. It is probably save to assume that \"almost all\" observations that were obtained in pupil-stabilized mode were of stars. You can easily filter for those, more on that later). We take into account the proper motion difference between J2000 and the time of observation of the stellar field. The median difference between header position and adjusted best matching Simbad position is ~1.6\" (with a spread of ~3\"), overall we are pretty close to the pointing accuracy of the VLTs, which is 1\" at best, often worse if the guide star is far away.\n",
    "\n",
    "In the table you can find entries to the nearest star-like object to the matched position, including name, separation, object type, stellar type, and brightness. This allows to evaluate how reliable the association is (e.g., if there is no other star in the 2 arcminute field of query, you can savely assume that there is no confusion...). The nearest star-like object is STRICLY stellar (to make sure we don't pick up radio sources etc, which are not interesting with regards to direct imaging). I also enforced a brightness limit of J<13 mag for the stellar matching as most high-contrast observations will require a bright star for AO. \n",
    "There is another column showing if there are any entries on simbad ending on a small letter \" b\", \" c\" etc, indicating a low-mass companion.\n",
    "\n",
    "Most subsequent columns relate to the details of the observations sequence, such as whether it has been taken in continuous waffle mode, the filter, time of observation, total integration time, observing conditions etc. \n",
    "\n",
    "Let's import some useful packages and the Sphere_database class."
   ]
  },
  {
   "cell_type": "code",
   "execution_count": 2,
   "metadata": {},
   "outputs": [],
   "source": [
    "import numpy as np\n",
    "import matplotlib.pyplot as plt\n",
    "import seaborn as sns\n",
    "\n",
    "from astropy.table import Table, Column, vstack\n",
    "from astropy.time import Time\n",
    "\n",
    "from astropy.coordinates import SkyCoord\n",
    "from astropy import units as u\n",
    "\n",
    "from spherical.sphere_database.sphere_database import Sphere_database\n",
    "\n",
    "import pandas as pd\n",
    "\n",
    "from tqdm import tqdm"
   ]
  },
  {
   "cell_type": "markdown",
   "metadata": {},
   "source": [
    "Next we read the two tables containing the all observations (up to April 2024) and the table of SPHERE files (that can be used to find files associated with an observation) to make a Sphere_database object."
   ]
  },
  {
   "cell_type": "code",
   "execution_count": 3,
   "metadata": {},
   "outputs": [],
   "source": [
    "table_of_observations = Table.read(\n",
    "    '/home/samland/sphere/database/table_of_IFS_observations_all_24_04_28.fits'\n",
    ")\n",
    "table_of_observations['DISTANCE'] = 1. / (1e-3 * table_of_observations['PLX'].data) * u.pc\n",
    "table_of_files = Table.read(\n",
    "    '/home/samland/sphere/database/table_of_files_all_24_04_28.csv'\n",
    ")\n",
    "database = Sphere_database(\n",
    "    table_of_observations=table_of_observations,\n",
    "    table_of_files=table_of_files,\n",
    "    instrument='IFS',\n",
    ")"
   ]
  },
  {
   "cell_type": "markdown",
   "metadata": {},
   "source": [
    "Now let's have a look at the table of observations. You can visualize the table in your browser or in the notebook directly. Here is the example of opening it in the browser, with java script to make it searchable and sortable.\n",
    "As you can will see it's a big list."
   ]
  },
  {
   "cell_type": "code",
   "execution_count": 4,
   "metadata": {},
   "outputs": [],
   "source": [
    "database.show_in_browser(summary=None, usable_only=True)\n",
    "# np.unique(database.table_of_files[\"DPR_TYPE\"])"
   ]
  },
  {
   "cell_type": "code",
   "execution_count": 12,
   "metadata": {},
   "outputs": [
    {
     "data": {
      "text/plain": [
       "Text(0.5, 0, 'Mean DIMM Seeing (arcsec)')"
      ]
     },
     "execution_count": 12,
     "metadata": {},
     "output_type": "execute_result"
    },
    {
     "data": {
      "image/png": "[encoded data removed]",
      "text/plain": [
       "<Figure size 640x480 with 1 Axes>"
      ]
     },
     "metadata": {},
     "output_type": "display_data"
    }
   ],
   "source": [
    "im = sns.histplot(table_of_observations.to_pandas()['MEAN_FWHM'], bins=100)\n",
    "im.axes.set_xlim(0, 2.)\n",
    "plt.ylabel('Number of targets')\n",
    "plt.xlabel('Mean DIMM Seeing (arcsec)')"
   ]
  },
  {
   "cell_type": "markdown",
   "metadata": {},
   "source": [
    "Let's have a quick look at the difference in position from the header of the SPHERE files used to construct the target list and the catalogue position. Generally the offset is small."
   ]
  },
  {
   "cell_type": "code",
   "execution_count": 15,
   "metadata": {},
   "outputs": [],
   "source": [
    "# im = sns.histplot(table_of_observations.to_pandas()['POS_DIFF'], bins=100)\n",
    "# im.axes.set_xlim(0, 10)\n",
    "# plt.ylabel('Normalized KDE')\n",
    "# plt.xlabel('Position difference (arcsec)')"
   ]
  },
  {
   "cell_type": "markdown",
   "metadata": {},
   "source": [
    "## Example of filter for observations"
   ]
  },
  {
   "cell_type": "code",
   "execution_count": 5,
   "metadata": {},
   "outputs": [
    {
     "name": "stdout",
     "output_type": "stream",
     "text": [
      "Number of total observations: 4116\n",
      "Number of unique targets: 2104\n"
     ]
    }
   ],
   "source": [
    "print(f\"Number of total observations: {len(table_of_observations)}\")\n",
    "print(f\"Number of unique targets: {len(np.unique(table_of_observations['MAIN_ID']))}\")"
   ]
  },
  {
   "cell_type": "markdown",
   "metadata": {},
   "source": [
    "As you can see SPHERE has been very prolific and many stars have been observed for multiple epochs of observation. However, this list is unwieldy, so let's apply some more filters. We will select only observations that follow some minimum requirement on quality for high-contrast imaging. They should be observed in pupil-stabilized mode for ADI, have a minimum exposure time, should not have any flags that would indicate that they are missing important data (like flux calibration or centering frames) or were aborted (this is summarized in the FAILED_SEQ column). For good measure we also filter for good seeing based on the DIMM values in the header (not the most reliable, but better than nothing), bright stars for good AO performance and a nearby distance below 100 pc.\n",
    "\n",
    "Of course any other combination or additional filters can be applied, as there is also information such as spectral type of the star, although some additional code might have to be used to filter these properly."
   ]
  },
  {
   "cell_type": "code",
   "execution_count": 5,
   "metadata": {},
   "outputs": [
    {
     "name": "stdout",
     "output_type": "stream",
     "text": [
      "Number of total observations: 4119\n",
      "Number of good observations fulfilling criteria: 1281\n"
     ]
    }
   ],
   "source": [
    "mask = np.logical_and.reduce([\n",
    "    table_of_observations['DEROTATOR_MODE'] == 'PUPIL',\n",
    "    table_of_observations['TOTAL_EXPTIME'] > 15.,\n",
    "    table_of_observations['FAILED_SEQ'] == False,\n",
    "    table_of_observations['MEAN_FWHM'] < 1.2,\n",
    "    table_of_observations['FLUX_J'] < 8,\n",
    "    table_of_observations['DISTANCE'] < 300]\n",
    ")\n",
    "print(\"Number of total observations: {}\".format(len(table_of_observations)))\n",
    "print(\"Number of good observations fulfilling criteria: {}\".format(np.sum(mask)))"
   ]
  },
  {
   "cell_type": "code",
   "execution_count": 13,
   "metadata": {},
   "outputs": [],
   "source": [
    "table_of_observations[mask].show_in_browser(jsviewer=True)"
   ]
  },
  {
   "cell_type": "code",
   "execution_count": 31,
   "metadata": {},
   "outputs": [
    {
     "data": {
      "text/plain": [
       "Text(0.5, 0, 'Distance (pc)')"
      ]
     },
     "execution_count": 31,
     "metadata": {},
     "output_type": "execute_result"
    },
    {
     "data": {
      "image/png": "[encoded data removed]",
      "text/plain": [
       "<Figure size 640x480 with 1 Axes>"
      ]
     },
     "metadata": {},
     "output_type": "display_data"
    }
   ],
   "source": [
    "im = sns.histplot(table_of_observations[mask].to_pandas()['DISTANCE'], bins=50)\n",
    "im.axes.set_xlim(0, 300)\n",
    "plt.ylabel('Histogram')\n",
    "plt.xlabel('Distance (pc)')"
   ]
  },
  {
   "cell_type": "markdown",
   "metadata": {},
   "source": [
    "I defined some additional useful methods in this class, but it mostly makes use of what astropy tables can already do, like displaying the table in your browser with javascript so that you can order the table according to column values and use search functionality. There are two parameters for this function. \n",
    "\n",
    "\"summary\" can either be: None -> display all columns, 'NORMAL' -> gets rid of some columns that may not be immediately interesting, and 'SHORT' to get a very condensed view with only the most important information.\n",
    "'OBSLOG' -> A digest of important headers\n",
    "\n",
    "\"usable_only\" can be True or False. If True, the table is pre-filtered to exclude all observation sequences that have been flagged as \"bad\" (e.g., missing crucial centering or flux frames, or important calibration data), where not obtained in ADI (pupil stabilized) mode, and have an total exposure time less than 20 minutes. \n"
   ]
  },
  {
   "cell_type": "code",
   "execution_count": 18,
   "metadata": {},
   "outputs": [],
   "source": [
    "database.show_in_browser(summary=None, usable_only=False)"
   ]
  },
  {
   "cell_type": "markdown",
   "metadata": {},
   "source": [
    "The minimum exposure time can be changed using the following method"
   ]
  },
  {
   "cell_type": "code",
   "execution_count": 6,
   "metadata": {},
   "outputs": [
    {
     "data": {
      "text/plain": [
       "array([ True,  True, False, ...,  True,  True,  True])"
      ]
     },
     "execution_count": 6,
     "metadata": {},
     "output_type": "execute_result"
    }
   ],
   "source": [
    "database._mask_not_usable_observations(minimum_total_exposure_time=15)"
   ]
  },
  {
   "cell_type": "code",
   "execution_count": 7,
   "metadata": {},
   "outputs": [],
   "source": [
    "database.show_in_browser(summary='SHORT', usable_only=True)"
   ]
  },
  {
   "cell_type": "markdown",
   "metadata": {},
   "source": [
    "Next, let's take a look at another method of the Sphere_database class: observation_from_name\n",
    "\n",
    "This method can take the same arguments \"summary\" and \"usable_only\", but takes a target name as the first argument. It then resolves the coordinates from the name using Simbad and returns an astropy table with all observations in the observation database that match. Let's try this on beta pictoris..."
   ]
  },
  {
   "cell_type": "code",
   "execution_count": 7,
   "metadata": {},
   "outputs": [],
   "source": [
    "from copy import copy\n",
    "database_target = copy(database)"
   ]
  },
  {
   "cell_type": "code",
   "execution_count": 8,
   "metadata": {},
   "outputs": [],
   "source": [
    "database_target.table_of_observations = database.get_observation_SIMBAD('HR 8799')\n",
    "database_target.show_in_browser(summary='OBSLOG')"
   ]
  },
  {
   "cell_type": "code",
   "execution_count": 23,
   "metadata": {},
   "outputs": [],
   "source": [
    "database_wolfgang = copy(database)\n",
    "mask_wolfgang = np.logical_and.reduce([\n",
    "    table_of_observations['DEROTATOR_MODE'] == 'PUPIL',\n",
    "    table_of_observations['TOTAL_EXPTIME'] > 15.,\n",
    "    table_of_observations['FAILED_SEQ'] == False,\n",
    "    table_of_observations['DISTANCE'] < 10]\n",
    ")\n",
    "database_wolfgang.table_of_observations = table_of_observations[mask_wolfgang]\n",
    "database_wolfgang.show_in_browser(summary='SHORT')"
   ]
  },
  {
   "cell_type": "code",
   "execution_count": 79,
   "metadata": {},
   "outputs": [],
   "source": [
    "from astropy.time import Time\n",
    "cutoff = Time('2022-09-06').mjd"
   ]
  },
  {
   "cell_type": "code",
   "execution_count": 80,
   "metadata": {},
   "outputs": [
    {
     "data": {
      "text/plain": [
       "59828.0"
      ]
     },
     "execution_count": 80,
     "metadata": {},
     "output_type": "execute_result"
    }
   ],
   "source": [
    "cutoff"
   ]
  },
  {
   "cell_type": "code",
   "execution_count": 24,
   "metadata": {},
   "outputs": [],
   "source": [
    "mask = np.logical_and.reduce([\n",
    "    table_of_observations['DEROTATOR_MODE'] == 'PUPIL',\n",
    "    table_of_observations['TOTAL_EXPTIME'] > 30.,\n",
    "    table_of_observations['FAILED_SEQ'] == False,\n",
    "    table_of_observations['MEAN_FWHM'] < 1.4,\n",
    "    # table_of_observations['FLUX_J'] < 8,\n",
    "    table_of_observations['DISTANCE'] < 10,\n",
    "])\n",
    "    # table_of_observations['MJD_MEAN'] < cutoff])\n",
    "obs = table_of_observations[mask]\n",
    "#     table_of_observations['MEAN_FWHM'] < 0.8,\n",
    "#     table_of_observations['FLUX_J'] < 8,\n",
    "df = obs.to_pandas()"
   ]
  },
  {
   "cell_type": "code",
   "execution_count": 10,
   "metadata": {},
   "outputs": [
    {
     "name": "stdout",
     "output_type": "stream",
     "text": [
      "0       False\n",
      "1       False\n",
      "2       False\n",
      "3       False\n",
      "4       False\n",
      "        ...  \n",
      "4114     True\n",
      "4115     True\n",
      "4116    False\n",
      "4117    False\n",
      "4118    False\n",
      "Name: MAIN_ID, Length: 4119, dtype: bool\n",
      "735\n"
     ]
    }
   ],
   "source": [
    "df = table_of_observations.copy().to_pandas()\n",
    "\n",
    "gs_bool = df.groupby(['MAIN_ID'])['MAIN_ID'].transform('size') > 5\n",
    "print(gs_bool)\n",
    "\n",
    "multi_epoch = df[gs_bool]\n",
    "# group_obs = masked_obs.group_by([])\n",
    "print(np.sum(gs_bool))"
   ]
  },
  {
   "cell_type": "code",
   "execution_count": 12,
   "metadata": {},
   "outputs": [],
   "source": [
    "Table.from_pandas(multi_epoch).show_in_browser(jsviewer=True)\n",
    "# test = Table.from_pandas(multi_epoch)\n",
    "# test.show_in_browser(jsviewer=True)"
   ]
  },
  {
   "cell_type": "code",
   "execution_count": null,
   "metadata": {},
   "outputs": [],
   "source": [
    "# https://archive.eso.org/wdb/wdb/eso/sched_rep_arc/query?progid=098.C-0526(A)"
   ]
  },
  {
   "cell_type": "code",
   "execution_count": 48,
   "metadata": {},
   "outputs": [
    {
     "name": "stdout",
     "output_type": "stream",
     "text": [
      "  MAIN_ID    NIGHT_START\n",
      "------------ -----------\n",
      "    * 12 Psc  2023-07-13\n",
      "    * 12 Tri  2016-08-27\n",
      "    * 18 Boo  2016-06-11\n",
      "    * 29 Vul  2018-10-18\n",
      "   * 3 Cen A  2019-02-21\n",
      "    * 30 Mon  2016-01-18\n",
      "    * 30 Mon  2016-12-15\n",
      "    * 30 Mon  2018-12-14\n",
      "    * 30 Ser  2015-06-04\n",
      "         ...         ...\n",
      "WRAY 15-1400  2017-08-28\n",
      "WRAY 15-1400  2023-04-07\n",
      "WRAY 15-1443  2015-05-11\n",
      "WRAY 15-1443  2015-05-14\n",
      "WRAY 15-1443  2019-05-18\n",
      "WRAY 15-1880  2016-05-18\n",
      "WRAY 15-1880  2018-07-03\n",
      "     WT 2353  2019-11-20\n",
      "    Wolf 851  2016-07-10\n",
      "Length = 1665 rows\n"
     ]
    }
   ],
   "source": [
    "print(obs.group_by(['MAIN_ID', 'NIGHT_START']).groups.keys)"
   ]
  },
  {
   "cell_type": "code",
   "execution_count": 22,
   "metadata": {},
   "outputs": [
    {
     "data": {
      "text/html": [
       "<div><i>Table length=15</i>\n",
       "<table id=\"table140483732259072\" class=\"table-striped table-bordered table-condensed\">\n",
       "<thead><tr><th>MAIN_ID</th><th>IFS_MODE</th><th>NIGHT_START</th><th>WAFFLE_MODE</th><th>FAILED_SEQ</th><th>DEROTATOR_MODE</th><th>DIT</th><th>NDIT</th><th>NCUBES</th><th>TOTAL_EXPTIME</th><th>MEAN_FWHM</th><th>MEAN_TAU</th><th>OBS_PROG_ID</th></tr></thead>\n",
       "<thead><tr><th>bytes34</th><th>bytes6</th><th>bytes10</th><th>bool</th><th>bool</th><th>bytes10</th><th>float64</th><th>int64</th><th>int64</th><th>float64</th><th>float64</th><th>float64</th><th>bytes16</th></tr></thead>\n",
       "<tr><td>HD 218396</td><td>OBS_YJ</td><td>2014-07-12</td><td>False</td><td>False</td><td>PUPIL</td><td>8.0</td><td>20</td><td>14</td><td>37.333333333333336</td><td>-1.0</td><td>0.0058</td><td>60.A-9249(B)</td></tr>\n",
       "<tr><td>HD 218396</td><td>OBS_H</td><td>2014-08-11</td><td>False</td><td>False</td><td>PUPIL</td><td>100.0</td><td>2</td><td>32</td><td>101.33333333333333</td><td>0.7132812500000001</td><td>0.0027875</td><td>60.A-9249(C)</td></tr>\n",
       "<tr><td>HD 218396</td><td>OBS_H</td><td>2015-07-03</td><td>False</td><td>False</td><td>PUPIL</td><td>64.0</td><td>4</td><td>15</td><td>64.0</td><td>-0.24333333333333335</td><td>0.0020066666666666666</td><td>095.C-0298(C)</td></tr>\n",
       "<tr><td>HD 218396</td><td>OBS_H</td><td>2015-09-27</td><td>False</td><td>False</td><td>PUPIL</td><td>16.0</td><td>16</td><td>16</td><td>68.26666666666667</td><td>0.8274999999999999</td><td>0.01663125</td><td>095.C-0298(D)</td></tr>\n",
       "<tr><td>HD 218396</td><td>OBS_YJ</td><td>2016-11-17</td><td>True</td><td>False</td><td>PUPIL</td><td>64.0</td><td>16</td><td>4</td><td>68.26666666666667</td><td>0.85625</td><td>0.0028499999999999992</td><td>198.C-0209(B)</td></tr>\n",
       "<tr><td>HD 218396</td><td>OBS_YJ</td><td>2017-06-14</td><td>True</td><td>False</td><td>PUPIL</td><td>32.0</td><td>36</td><td>3</td><td>57.6</td><td>0.9183333333333334</td><td>0.0028333333333333335</td><td>198.C-0209(J)</td></tr>\n",
       "<tr><td>HD 218396</td><td>OBS_YJ</td><td>2017-10-07</td><td>True</td><td>False</td><td>PUPIL</td><td>64.0</td><td>7</td><td>35</td><td>261.3333333333333</td><td>0.6427142857142857</td><td>0.005448571428571428</td><td>099.C-0588(A)</td></tr>\n",
       "<tr><td>HD 218396</td><td>OBS_YJ</td><td>2017-10-11</td><td>True</td><td>False</td><td>PUPIL</td><td>64.0</td><td>7</td><td>35</td><td>261.3333333333333</td><td>0.6077142857142858</td><td>0.005205714285714286</td><td>099.C-0588(A)</td></tr>\n",
       "<tr><td>HD 218396</td><td>OBS_YJ</td><td>2017-10-12</td><td>True</td><td>False</td><td>PUPIL</td><td>64.0</td><td>7</td><td>33</td><td>246.4</td><td>0.664090909090909</td><td>0.005087878787878789</td><td>099.C-0588(A)</td></tr>\n",
       "<tr><td>HD 218396</td><td>OBS_YJ</td><td>2018-06-18</td><td>True</td><td>False</td><td>PUPIL</td><td>96.0</td><td>8</td><td>9</td><td>104.0</td><td>0.6238888888888889</td><td>0.007077777777777778</td><td>1100.C-0481(H)</td></tr>\n",
       "<tr><td>HD 218396</td><td>OBS_YJ</td><td>2018-08-17</td><td>True</td><td>False</td><td>PUPIL</td><td>64.0</td><td>7</td><td>32</td><td>238.93333333333334</td><td>0.655</td><td>0.0081125</td><td>0101.C-0315(A)</td></tr>\n",
       "<tr><td>HD 218396</td><td>OBS_YJ</td><td>2018-08-19</td><td>True</td><td>False</td><td>PUPIL</td><td>64.0</td><td>7</td><td>12</td><td>89.6</td><td>0.34833333333333333</td><td>0.007241666666666667</td><td>0101.C-0315(A)</td></tr>\n",
       "<tr><td>HD 218396</td><td>OBS_H</td><td>2019-10-31</td><td>False</td><td>False</td><td>PUPIL</td><td>32.0</td><td>16</td><td>5</td><td>33.06666666666667</td><td>0.716</td><td>0.0047799999999999995</td><td>103.203Q.001</td></tr>\n",
       "<tr><td>HD 218396</td><td>OBS_H</td><td>2019-11-01</td><td>False</td><td>False</td><td>PUPIL</td><td>32.0</td><td>16</td><td>10</td><td>66.13333333333334</td><td>0.6199999999999999</td><td>0.0046500000000000005</td><td>103.203Q.001</td></tr>\n",
       "<tr><td>HD 218396</td><td>OBS_YJ</td><td>2021-08-20</td><td>True</td><td>False</td><td>PUPIL</td><td>96.0</td><td>10</td><td>4</td><td>64.0</td><td>0.38874999999999993</td><td>0.0086</td><td>1104.C-0416(E)</td></tr>\n",
       "</table></div>"
      ],
      "text/plain": [
       "<Table length=15>\n",
       " MAIN_ID  IFS_MODE NIGHT_START WAFFLE_MODE ...      MEAN_FWHM              MEAN_TAU        OBS_PROG_ID  \n",
       " bytes34   bytes6    bytes10       bool    ...       float64               float64           bytes16    \n",
       "--------- -------- ----------- ----------- ... -------------------- --------------------- --------------\n",
       "HD 218396   OBS_YJ  2014-07-12       False ...                 -1.0                0.0058   60.A-9249(B)\n",
       "HD 218396    OBS_H  2014-08-11       False ...   0.7132812500000001             0.0027875   60.A-9249(C)\n",
       "HD 218396    OBS_H  2015-07-03       False ... -0.24333333333333335 0.0020066666666666666  095.C-0298(C)\n",
       "HD 218396    OBS_H  2015-09-27       False ...   0.8274999999999999            0.01663125  095.C-0298(D)\n",
       "HD 218396   OBS_YJ  2016-11-17        True ...              0.85625 0.0028499999999999992  198.C-0209(B)\n",
       "HD 218396   OBS_YJ  2017-06-14        True ...   0.9183333333333334 0.0028333333333333335  198.C-0209(J)\n",
       "HD 218396   OBS_YJ  2017-10-07        True ...   0.6427142857142857  0.005448571428571428  099.C-0588(A)\n",
       "HD 218396   OBS_YJ  2017-10-11        True ...   0.6077142857142858  0.005205714285714286  099.C-0588(A)\n",
       "HD 218396   OBS_YJ  2017-10-12        True ...    0.664090909090909  0.005087878787878789  099.C-0588(A)\n",
       "HD 218396   OBS_YJ  2018-06-18        True ...   0.6238888888888889  0.007077777777777778 1100.C-0481(H)\n",
       "HD 218396   OBS_YJ  2018-08-17        True ...                0.655             0.0081125 0101.C-0315(A)\n",
       "HD 218396   OBS_YJ  2018-08-19        True ...  0.34833333333333333  0.007241666666666667 0101.C-0315(A)\n",
       "HD 218396    OBS_H  2019-10-31       False ...                0.716 0.0047799999999999995   103.203Q.001\n",
       "HD 218396    OBS_H  2019-11-01       False ...   0.6199999999999999 0.0046500000000000005   103.203Q.001\n",
       "HD 218396   OBS_YJ  2021-08-20        True ...  0.38874999999999993                0.0086 1104.C-0416(E)"
      ]
     },
     "execution_count": 22,
     "metadata": {},
     "output_type": "execute_result"
    }
   ],
   "source": [
    "# obs = database.observations_from_name_SIMBAD(['HD114174'], summary='OBSLOG', usable_only=False)\n",
    "# obs = database.observations_from_name_SIMBAD(['HD95086'], summary=None, usable_only=True)\n",
    "# obs = database.observations_from_name_SIMBAD(['51 eri'], summary='OBSLOG', usable_only=True)\n",
    "# obs = database.observations_from_name_SIMBAD(['mu2 sco'], summary='OBSLOG', usable_only=False)\n",
    "# obs = database.observations_from_name_SIMBAD(['HIP 15201'], summary='OBSLOG', usable_only=False)\n",
    "# obs = database.observations_from_name_SIMBAD(['GQ Lup'], summary='OBSLOG', usable_only=False)\n",
    "# obs = database.observations_from_name_SIMBAD(['HIP 21152'], summary='OBSLOG', usable_only=False)\n",
    "# obs = database.observations_from_name_SIMBAD(['HR 2562'], summary='OBSLOG', usable_only=False)\n",
    "# obs = database.observations_from_name_SIMBAD(['beta pic'], summary='OBSLOG', usable_only=True)\n",
    "obs = database.observations_from_name_SIMBAD(['HR8799'], summary='OBSLOG', usable_only=True)\n",
    "# obs = database.observations_from_name_SIMBAD(['HD2133'], summary='OBSLOG', usable_only=True)\n",
    "# obs.show_in_browser()\n",
    "# target_table_mask = np.logical_and.reduce([\n",
    "#     obs['TOTAL_EXPTIME'] > 15,\n",
    "#     obs['MEAN_FWHM'] >  1.2,\n",
    "#     obs['DATE_SHORT'] != '2016-04-15',\n",
    "#     obs['DATE_SHORT'] != '2016-04-16',\n",
    "#     obs['DATE_SHORT'] != '2019-12-22'])\n",
    "# obs[target_table_mask]\n",
    "obs\n"
   ]
  },
  {
   "cell_type": "code",
   "execution_count": 8,
   "metadata": {
    "scrolled": true
   },
   "outputs": [
    {
     "data": {
      "text/html": [
       "<i>Table length=34</i>\n",
       "<table id=\"table140406897169072-941920\" class=\"table-striped table-bordered table-condensed\">\n",
       "<thead><tr><th>idx</th><th>MAIN_ID</th><th>IFS_MODE</th><th>DATE_SHORT</th><th>WAFFLE_MODE</th><th>FAILED_SEQ</th><th>DEROTATOR_MODE</th><th>DIT</th><th>NDIT</th><th>NCUBES</th><th>TOTAL_EXPTIME</th><th>MEAN_FWHM</th><th>MEAN_TAU</th><th>OBS_PROG_ID</th></tr></thead>\n",
       "<tr><td>0</td><td>** KOU 2C</td><td>OBS_H</td><td>2015-02-03</td><td>True</td><td>False</td><td>PUPIL</td><td>64.0</td><td>1</td><td>31</td><td>32.53333333333333</td><td>0.6764516129032259</td><td>0.022545161290322583</td><td>095.C-0298(H)</td></tr>\n",
       "<tr><td>1</td><td>** KOU 2C</td><td>OBS_YJ</td><td>2015-05-04</td><td>False</td><td>False</td><td>PUPIL</td><td>64.0</td><td>4</td><td>8</td><td>34.13333333333333</td><td>0.849375</td><td>0.001975</td><td>095.C-0298(A)</td></tr>\n",
       "<tr><td>2</td><td>** KOU 2C</td><td>OBS_H</td><td>2015-05-05</td><td>False</td><td>False</td><td>PUPIL</td><td>64.0</td><td>4</td><td>12</td><td>51.2</td><td>0.7804166666666665</td><td>0.0021166666666666664</td><td>095.C-0298(A)</td></tr>\n",
       "<tr><td>3</td><td>** KOU 2C</td><td>OBS_YJ</td><td>2015-05-05</td><td>False</td><td>False</td><td>PUPIL</td><td>64.0</td><td>4</td><td>8</td><td>34.13333333333333</td><td>0.6400000000000001</td><td>0.0026375</td><td>095.C-0298(A)</td></tr>\n",
       "<tr><td>4</td><td>** KOU 2C</td><td>OBS_YJ</td><td>2015-05-11</td><td>False</td><td>False</td><td>PUPIL</td><td>64.0</td><td>4</td><td>12</td><td>51.2</td><td>1.0920833333333333</td><td>0.0027583333333333336</td><td>095.C-0298(A)</td></tr>\n",
       "<tr><td>5</td><td>** KOU 2C</td><td>OBS_YJ</td><td>2015-05-12</td><td>False</td><td>False</td><td>PUPIL</td><td>64.0</td><td>4</td><td>4</td><td>17.066666666666666</td><td>1.0262499999999999</td><td>0.0036</td><td>095.C-0298(A)</td></tr>\n",
       "<tr><td>6</td><td>** KOU 2C</td><td>OBS_H</td><td>2016-01-18</td><td>False</td><td>False</td><td>PUPIL</td><td>64.0</td><td>5</td><td>16</td><td>85.33333333333333</td><td>1.6065625000000001</td><td>0.001775</td><td>096.C-0241(G)</td></tr>\n",
       "<tr><td>7</td><td>** KOU 2C</td><td>OBS_YJ</td><td>2016-04-16</td><td>False</td><td>False</td><td>PUPIL</td><td>64.0</td><td>19</td><td>4</td><td>81.06666666666666</td><td>0.6387499999999999</td><td>0.0052499999999999995</td><td>097.C-0865(A)</td></tr>\n",
       "<tr><td>8</td><td>** KOU 2C</td><td>OBS_H</td><td>2016-05-30</td><td>True</td><td>False</td><td>PUPIL</td><td>64.0</td><td>10</td><td>5</td><td>53.333333333333336</td><td>0.66</td><td>0.0035000000000000005</td><td>097.C-0865(B)</td></tr>\n",
       "<tr><td>9</td><td>** KOU 2C</td><td>OBS_H</td><td>2016-05-31</td><td>True</td><td>False</td><td>PUPIL</td><td>64.0</td><td>10</td><td>2</td><td>21.333333333333332</td><td>0.58</td><td>0.0030499999999999998</td><td>097.C-0865(B)</td></tr>\n",
       "<tr><td>10</td><td>** KOU 2C</td><td>OBS_H</td><td>2017-05-03</td><td>False</td><td>False</td><td>PUPIL</td><td>64.0</td><td>7</td><td>1</td><td>7.466666666666667</td><td>2.15</td><td>0.0016</td><td>198.C-0209(G)</td></tr>\n",
       "<tr><td>11</td><td>** KOU 2C</td><td>OBS_H</td><td>2017-05-09</td><td>True</td><td>False</td><td>PUPIL</td><td>64.0</td><td>10</td><td>6</td><td>64.0</td><td>0.91</td><td>0.003283333333333333</td><td>198.C-0209(M)</td></tr>\n",
       "<tr><td>12</td><td>** KOU 2C</td><td>OBS_H</td><td>2017-05-10</td><td>True</td><td>False</td><td>PUPIL</td><td>64.0</td><td>10</td><td>4</td><td>42.666666666666664</td><td>0.8712499999999999</td><td>0.003425</td><td>198.C-0209(M)</td></tr>\n",
       "<tr><td>13</td><td>** KOU 2C</td><td>OBS_H</td><td>2018-01-06</td><td>True</td><td>False</td><td>PUPIL</td><td>96.0</td><td>10</td><td>7</td><td>112.0</td><td>0.2992857142857143</td><td>0.010057142857142858</td><td>1100.C-0481(E)</td></tr>\n",
       "<tr><td>14</td><td>** KOU 2C</td><td>OBS_H</td><td>2018-02-24</td><td>False</td><td>False</td><td>PUPIL</td><td>96.0</td><td>4</td><td>16</td><td>102.4</td><td>0.37031250000000004</td><td>0.008956249999999999</td><td>1100.C-0481(D)</td></tr>\n",
       "<tr><td>15</td><td>** KOU 2C</td><td>OBS_H</td><td>2018-03-28</td><td>False</td><td>False</td><td>PUPIL</td><td>96.0</td><td>4</td><td>16</td><td>102.4</td><td>0.5921875</td><td>0.009268750000000001</td><td>1100.C-0481(E)</td></tr>\n",
       "<tr><td>16</td><td>** KOU 2C</td><td>OBS_H</td><td>2021-03-11</td><td>False</td><td>False</td><td>PUPIL</td><td>32.0</td><td>4</td><td>28</td><td>55.46666666666667</td><td>0.7360714285714287</td><td>0.0067</td><td>106.21VL.001</td></tr>\n",
       "<tr><td>17</td><td>HD 95086</td><td>OBS_H</td><td>2015-02-03</td><td>True</td><td>False</td><td>PUPIL</td><td>64.0</td><td>1</td><td>31</td><td>32.53333333333333</td><td>0.6764516129032259</td><td>0.022545161290322583</td><td>095.C-0298(H)</td></tr>\n",
       "<tr><td>18</td><td>HD 95086</td><td>OBS_YJ</td><td>2015-05-04</td><td>False</td><td>False</td><td>PUPIL</td><td>64.0</td><td>4</td><td>8</td><td>34.13333333333333</td><td>0.849375</td><td>0.001975</td><td>095.C-0298(A)</td></tr>\n",
       "<tr><td>19</td><td>HD 95086</td><td>OBS_H</td><td>2015-05-05</td><td>False</td><td>False</td><td>PUPIL</td><td>64.0</td><td>4</td><td>12</td><td>51.2</td><td>0.7804166666666665</td><td>0.0021166666666666664</td><td>095.C-0298(A)</td></tr>\n",
       "<tr><td>20</td><td>HD 95086</td><td>OBS_YJ</td><td>2015-05-05</td><td>False</td><td>False</td><td>PUPIL</td><td>64.0</td><td>4</td><td>8</td><td>34.13333333333333</td><td>0.6400000000000001</td><td>0.0026375</td><td>095.C-0298(A)</td></tr>\n",
       "<tr><td>21</td><td>HD 95086</td><td>OBS_YJ</td><td>2015-05-11</td><td>False</td><td>False</td><td>PUPIL</td><td>64.0</td><td>4</td><td>12</td><td>51.2</td><td>1.0920833333333333</td><td>0.0027583333333333336</td><td>095.C-0298(A)</td></tr>\n",
       "<tr><td>22</td><td>HD 95086</td><td>OBS_YJ</td><td>2015-05-12</td><td>False</td><td>False</td><td>PUPIL</td><td>64.0</td><td>4</td><td>4</td><td>17.066666666666666</td><td>1.0262499999999999</td><td>0.0036</td><td>095.C-0298(A)</td></tr>\n",
       "<tr><td>23</td><td>HD 95086</td><td>OBS_H</td><td>2016-01-18</td><td>False</td><td>False</td><td>PUPIL</td><td>64.0</td><td>5</td><td>16</td><td>85.33333333333333</td><td>1.6065625000000001</td><td>0.001775</td><td>096.C-0241(G)</td></tr>\n",
       "<tr><td>24</td><td>HD 95086</td><td>OBS_YJ</td><td>2016-04-16</td><td>False</td><td>False</td><td>PUPIL</td><td>64.0</td><td>19</td><td>4</td><td>81.06666666666666</td><td>0.6387499999999999</td><td>0.0052499999999999995</td><td>097.C-0865(A)</td></tr>\n",
       "<tr><td>25</td><td>HD 95086</td><td>OBS_H</td><td>2016-05-30</td><td>True</td><td>False</td><td>PUPIL</td><td>64.0</td><td>10</td><td>5</td><td>53.333333333333336</td><td>0.66</td><td>0.0035000000000000005</td><td>097.C-0865(B)</td></tr>\n",
       "<tr><td>26</td><td>HD 95086</td><td>OBS_H</td><td>2016-05-31</td><td>True</td><td>False</td><td>PUPIL</td><td>64.0</td><td>10</td><td>2</td><td>21.333333333333332</td><td>0.58</td><td>0.0030499999999999998</td><td>097.C-0865(B)</td></tr>\n",
       "<tr><td>27</td><td>HD 95086</td><td>OBS_H</td><td>2017-05-03</td><td>False</td><td>False</td><td>PUPIL</td><td>64.0</td><td>7</td><td>1</td><td>7.466666666666667</td><td>2.15</td><td>0.0016</td><td>198.C-0209(G)</td></tr>\n",
       "<tr><td>28</td><td>HD 95086</td><td>OBS_H</td><td>2017-05-09</td><td>True</td><td>False</td><td>PUPIL</td><td>64.0</td><td>10</td><td>6</td><td>64.0</td><td>0.91</td><td>0.003283333333333333</td><td>198.C-0209(M)</td></tr>\n",
       "<tr><td>29</td><td>HD 95086</td><td>OBS_H</td><td>2017-05-10</td><td>True</td><td>False</td><td>PUPIL</td><td>64.0</td><td>10</td><td>4</td><td>42.666666666666664</td><td>0.8712499999999999</td><td>0.003425</td><td>198.C-0209(M)</td></tr>\n",
       "<tr><td>30</td><td>HD 95086</td><td>OBS_H</td><td>2018-01-06</td><td>True</td><td>False</td><td>PUPIL</td><td>96.0</td><td>10</td><td>7</td><td>112.0</td><td>0.2992857142857143</td><td>0.010057142857142858</td><td>1100.C-0481(E)</td></tr>\n",
       "<tr><td>31</td><td>HD 95086</td><td>OBS_H</td><td>2018-02-24</td><td>False</td><td>False</td><td>PUPIL</td><td>96.0</td><td>4</td><td>16</td><td>102.4</td><td>0.37031250000000004</td><td>0.008956249999999999</td><td>1100.C-0481(D)</td></tr>\n",
       "<tr><td>32</td><td>HD 95086</td><td>OBS_H</td><td>2018-03-28</td><td>False</td><td>False</td><td>PUPIL</td><td>96.0</td><td>4</td><td>16</td><td>102.4</td><td>0.5921875</td><td>0.009268750000000001</td><td>1100.C-0481(E)</td></tr>\n",
       "<tr><td>33</td><td>HD 95086</td><td>OBS_H</td><td>2021-03-11</td><td>False</td><td>False</td><td>PUPIL</td><td>32.0</td><td>4</td><td>28</td><td>55.46666666666667</td><td>0.7360714285714287</td><td>0.0067</td><td>106.21VL.001</td></tr>\n",
       "</table><style>table.dataTable {clear: both; width: auto !important; margin: 0 !important;}\n",
       ".dataTables_info, .dataTables_length, .dataTables_filter, .dataTables_paginate{\n",
       "display: inline-block; margin-right: 1em; }\n",
       ".paginate_button { margin-right: 5px; }\n",
       "</style>\n",
       "<script>\n",
       "\n",
       "var astropy_sort_num = function(a, b) {\n",
       "    var a_num = parseFloat(a);\n",
       "    var b_num = parseFloat(b);\n",
       "\n",
       "    if (isNaN(a_num) && isNaN(b_num))\n",
       "        return ((a < b) ? -1 : ((a > b) ? 1 : 0));\n",
       "    else if (!isNaN(a_num) && !isNaN(b_num))\n",
       "        return ((a_num < b_num) ? -1 : ((a_num > b_num) ? 1 : 0));\n",
       "    else\n",
       "        return isNaN(a_num) ? -1 : 1;\n",
       "}\n",
       "\n",
       "require.config({paths: {\n",
       "    datatables: 'https://cdn.datatables.net/1.10.12/js/jquery.dataTables.min'\n",
       "}});\n",
       "require([\"datatables\"], function(){\n",
       "    console.log(\"$('#table140406897169072-941920').dataTable()\");\n",
       "    \n",
       "jQuery.extend( jQuery.fn.dataTableExt.oSort, {\n",
       "    \"optionalnum-asc\": astropy_sort_num,\n",
       "    \"optionalnum-desc\": function (a,b) { return -astropy_sort_num(a, b); }\n",
       "});\n",
       "\n",
       "    $('#table140406897169072-941920').dataTable({\n",
       "        order: [],\n",
       "        pageLength: 50,\n",
       "        lengthMenu: [[10, 25, 50, 100, 500, 1000, -1], [10, 25, 50, 100, 500, 1000, 'All']],\n",
       "        pagingType: \"full_numbers\",\n",
       "        columnDefs: [{targets: [0, 7, 8, 9, 10, 11, 12], type: \"optionalnum\"}]\n",
       "    });\n",
       "});\n",
       "</script>\n"
      ],
      "text/plain": [
       "<IPython.core.display.HTML object>"
      ]
     },
     "execution_count": 8,
     "metadata": {},
     "output_type": "execute_result"
    }
   ],
   "source": [
    "obs.show_in_notebook()"
   ]
  },
  {
   "cell_type": "code",
   "execution_count": 26,
   "metadata": {},
   "outputs": [
    {
     "name": "stderr",
     "output_type": "stream",
     "text": [
      "WARNING: AstropyDeprecationWarning: \"pedantic\" was deprecated in version 5.0 and will be removed in a future version. Use argument \"verify\" instead. [astropy.io.votable.table]\n"
     ]
    },
    {
     "data": {
      "text/html": [
       "<i>Table length=10</i>\n",
       "<table id=\"table139783995931088-702711\" class=\"table-striped table-bordered table-condensed\">\n",
       "<thead><tr><th>idx</th><th>MAIN_ID</th><th>IFS_MODE</th><th>DATE_SHORT</th><th>WAFFLE_MODE</th><th>FAILED_SEQ</th><th>DEROTATOR_MODE</th><th>DIT</th><th>NDIT</th><th>NCUBES</th><th>TOTAL_EXPTIME</th><th>MEAN_FWHM</th><th>MEAN_TAU</th><th>OBS_PROG_ID</th></tr></thead>\n",
       "<tr><td>0</td><td>HD 2133</td><td>OBS_YJ</td><td>2015-10-25</td><td>False</td><td>False</td><td>PUPIL</td><td>64.0</td><td>4</td><td>16</td><td>68.26666666666667</td><td>1.4812500000000002</td><td>0.001075</td><td>096.C-0241(A)</td></tr>\n",
       "<tr><td>1</td><td>HD 2133</td><td>OBS_H</td><td>2015-10-27</td><td>False</td><td>False</td><td>PUPIL</td><td>64.0</td><td>4</td><td>4</td><td>17.066666666666666</td><td>1.39875</td><td>0.00125</td><td>096.C-0241(A)</td></tr>\n",
       "<tr><td>2</td><td>HD 2133</td><td>OBS_YJ</td><td>2015-11-28</td><td>False</td><td>False</td><td>PUPIL</td><td>32.0</td><td>1</td><td>16</td><td>8.533333333333333</td><td>1.1746874999999999</td><td>0.007325</td><td>096.C-0241(B)</td></tr>\n",
       "<tr><td>3</td><td>HD 2133</td><td>OBS_H</td><td>2016-06-13</td><td>False</td><td>False</td><td>PUPIL</td><td>64.0</td><td>1</td><td>16</td><td>17.066666666666666</td><td>0.6996875</td><td>0.00393125</td><td>097.C-0865(F)</td></tr>\n",
       "<tr><td>4</td><td>HD 2133</td><td>OBS_YJ</td><td>2016-09-16</td><td>False</td><td>False</td><td>PUPIL</td><td>64.0</td><td>1</td><td>20</td><td>21.333333333333332</td><td>0.6415</td><td>0.00555</td><td>097.C-0865(D)</td></tr>\n",
       "<tr><td>5</td><td>HD 2133</td><td>OBS_YJ</td><td>2016-11-18</td><td>False</td><td>False</td><td>PUPIL</td><td>64.0</td><td>1</td><td>16</td><td>17.066666666666666</td><td>0.598125</td><td>0.0054625</td><td>198.C-0209(B)</td></tr>\n",
       "<tr><td>6</td><td>HD 2133</td><td>OBS_YJ</td><td>2016-12-12</td><td>False</td><td>False</td><td>PUPIL</td><td>64.0</td><td>1</td><td>14</td><td>14.933333333333334</td><td>1.7914285714285716</td><td>0.0013857142857142857</td><td>198.C-0209(C)</td></tr>\n",
       "<tr><td>7</td><td>HD 2133</td><td>OBS_H</td><td>2017-11-04</td><td>False</td><td>False</td><td>PUPIL</td><td>64.0</td><td>1</td><td>16</td><td>17.066666666666666</td><td>0.7078125000000001</td><td>0.00268125</td><td>1100.C-0481(B)</td></tr>\n",
       "<tr><td>8</td><td>HD 2133</td><td>OBS_H</td><td>2017-11-30</td><td>False</td><td>False</td><td>PUPIL</td><td>64.0</td><td>1</td><td>16</td><td>17.066666666666666</td><td>0.57875</td><td>0.005775</td><td>1100.C-0481(A)</td></tr>\n",
       "<tr><td>9</td><td>HD 2133</td><td>OBS_H</td><td>2018-01-05</td><td>False</td><td>False</td><td>PUPIL</td><td>64.0</td><td>1</td><td>16</td><td>17.066666666666666</td><td>1.010625</td><td>0.00780625</td><td>1100.C-0481(E)</td></tr>\n",
       "</table><style>table.dataTable {clear: both; width: auto !important; margin: 0 !important;}\n",
       ".dataTables_info, .dataTables_length, .dataTables_filter, .dataTables_paginate{\n",
       "display: inline-block; margin-right: 1em; }\n",
       ".paginate_button { margin-right: 5px; }\n",
       "</style>\n",
       "<script>\n",
       "\n",
       "var astropy_sort_num = function(a, b) {\n",
       "    var a_num = parseFloat(a);\n",
       "    var b_num = parseFloat(b);\n",
       "\n",
       "    if (isNaN(a_num) && isNaN(b_num))\n",
       "        return ((a < b) ? -1 : ((a > b) ? 1 : 0));\n",
       "    else if (!isNaN(a_num) && !isNaN(b_num))\n",
       "        return ((a_num < b_num) ? -1 : ((a_num > b_num) ? 1 : 0));\n",
       "    else\n",
       "        return isNaN(a_num) ? -1 : 1;\n",
       "}\n",
       "\n",
       "require.config({paths: {\n",
       "    datatables: 'https://cdn.datatables.net/1.10.12/js/jquery.dataTables.min'\n",
       "}});\n",
       "require([\"datatables\"], function(){\n",
       "    console.log(\"$('#table139783995931088-702711').dataTable()\");\n",
       "    \n",
       "jQuery.extend( jQuery.fn.dataTableExt.oSort, {\n",
       "    \"optionalnum-asc\": astropy_sort_num,\n",
       "    \"optionalnum-desc\": function (a,b) { return -astropy_sort_num(a, b); }\n",
       "});\n",
       "\n",
       "    $('#table139783995931088-702711').dataTable({\n",
       "        order: [],\n",
       "        pageLength: 50,\n",
       "        lengthMenu: [[10, 25, 50, 100, 500, 1000, -1], [10, 25, 50, 100, 500, 1000, 'All']],\n",
       "        pagingType: \"full_numbers\",\n",
       "        columnDefs: [{targets: [0, 7, 8, 9, 10, 11, 12], type: \"optionalnum\"}]\n",
       "    });\n",
       "});\n",
       "</script>\n"
      ],
      "text/plain": [
       "<IPython.core.display.HTML object>"
      ]
     },
     "execution_count": 26,
     "metadata": {},
     "output_type": "execute_result"
    }
   ],
   "source": [
    "obs = database.observations_from_name_SIMBAD(['HD2133'], summary='OBSLOG', usable_only=True)\n",
    "target_table_mask = np.logical_and.reduce([\n",
    "    obs['TOTAL_EXPTIME'] > 15,\n",
    "#     obs['MEAN_FWHM'] <  1.2,\n",
    "#      obs['MAIN_ID'] == 'HD 95086'\n",
    "])\n",
    "obs.show_in_notebook()"
   ]
  },
  {
   "cell_type": "code",
   "execution_count": 5,
   "metadata": {},
   "outputs": [
    {
     "ename": "NameError",
     "evalue": "name 'database_gto' is not defined",
     "output_type": "error",
     "traceback": [
      "\u001b[0;31m---------------------------------------------------------------------------\u001b[0m",
      "\u001b[0;31mNameError\u001b[0m                                 Traceback (most recent call last)",
      "\u001b[0;32m<ipython-input-5-d566d7bf49ea>\u001b[0m in \u001b[0;36m<module>\u001b[0;34m\u001b[0m\n\u001b[0;32m----> 1\u001b[0;31m \u001b[0mgto_phot\u001b[0m \u001b[0;34m=\u001b[0m \u001b[0mdatabase_gto\u001b[0m\u001b[0;34m.\u001b[0m\u001b[0mobservations_from_name_SIMBAD\u001b[0m\u001b[0;34m(\u001b[0m\u001b[0;34m[\u001b[0m\u001b[0;34m'HD 100546'\u001b[0m\u001b[0;34m]\u001b[0m\u001b[0;34m,\u001b[0m \u001b[0msummary\u001b[0m\u001b[0;34m=\u001b[0m\u001b[0;34m'SHORT'\u001b[0m\u001b[0;34m,\u001b[0m \u001b[0musable_only\u001b[0m\u001b[0;34m=\u001b[0m\u001b[0;32mTrue\u001b[0m\u001b[0;34m)\u001b[0m\u001b[0;34m\u001b[0m\u001b[0;34m\u001b[0m\u001b[0m\n\u001b[0m\u001b[1;32m      2\u001b[0m \u001b[0mgto_phot\u001b[0m\u001b[0;34m\u001b[0m\u001b[0;34m\u001b[0m\u001b[0m\n",
      "\u001b[0;31mNameError\u001b[0m: name 'database_gto' is not defined"
     ]
    }
   ],
   "source": [
    "gto_phot = database_gto.observations_from_name_SIMBAD(['HD 100546'], summary='SHORT', usable_only=True)\n",
    "gto_phot"
   ]
  },
  {
   "cell_type": "code",
   "execution_count": 17,
   "metadata": {},
   "outputs": [
    {
     "data": {
      "text/html": [
       "<i>Table length=5</i>\n",
       "<table id=\"table140518675467856\" class=\"table-striped table-bordered table-condensed\">\n",
       "<thead><tr><th>MAIN_ID</th><th>HD_ID</th><th>HIP_ID</th><th>RA</th><th>DEC</th><th>OTYPE</th><th>SP_TYPE</th><th>FLUX_V</th><th>FLUX_R</th><th>FLUX_I</th><th>FLUX_J</th><th>FLUX_H</th><th>FLUX_K</th><th>ABS_PM</th><th>PM_RA</th><th>PM_DEC</th><th>PM_RA_ERR</th><th>PM_DEC_ERR</th><th>PLX</th><th>PLX_ERR</th><th>PLX_BIBCODE</th><th>OBJ_HEADER</th><th>RA_DEG</th><th>DEC_DEG</th><th>RA_HEADER</th><th>DEC_HEADER</th><th>POS_DIFF</th><th>STARS_IN_CONE</th><th>NEAREST_STAR</th><th>SEPARATION_NEAREST</th><th>NEAREST_OTYPE</th><th>NEAREST_STYPE</th><th>NEAREST_FLUX_H</th><th>COMPANION_NAME</th><th>NUMBER_COMPANIONS</th><th>DATE_SHORT</th><th>OBS_START</th><th>OBS_END</th><th>MJD_MEAN</th><th>INSTRUMENT</th><th>DB_FILTER</th><th>ND_FILTER</th><th>ND_FILTER_FLUX</th><th>WAFFLE_MODE</th><th>NON_CORO_MODE</th><th>FAILED_SEQ</th><th>TOTAL_EXPTIME</th><th>DIT</th><th>NDIT</th><th>NCUBES</th><th>NCENTER</th><th>SCI_DIT_FLAG</th><th>DIT_FLUX</th><th>NDIT_FLUX</th><th>NFLUX</th><th>FLUX_FLAG</th><th>NSKY</th><th>MEAN_TAU</th><th>STDDEV_TAU</th><th>MEAN_FWHM</th><th>STDDEV_FWHM</th><th>MEAN_AIRMASS</th><th>DEROTATOR_MODE</th><th>WAFFLE_AMP</th><th>OBS_ID</th><th>OBS_PROG_ID</th><th>TOTAL_FILE_SIZE</th></tr></thead>\n",
       "<thead><tr><th></th><th></th><th></th><th></th><th></th><th></th><th></th><th>mag</th><th>mag</th><th>mag</th><th>mag</th><th>mag</th><th>mag</th><th>mas / yr</th><th>mas / yr</th><th>mas / yr</th><th>mas / yr</th><th>mas / yr</th><th>mas</th><th>mas</th><th></th><th></th><th>deg</th><th>deg</th><th>deg</th><th>deg</th><th>arcsec</th><th></th><th></th><th>arcsec</th><th></th><th></th><th></th><th></th><th></th><th></th><th></th><th></th><th></th><th></th><th></th><th></th><th></th><th></th><th></th><th></th><th></th><th></th><th></th><th></th><th></th><th></th><th></th><th></th><th></th><th></th><th></th><th></th><th></th><th></th><th></th><th></th><th></th><th></th><th></th><th></th><th></th></tr></thead>\n",
       "<thead><tr><th>bytes29</th><th>bytes10</th><th>bytes10</th><th>bytes13</th><th>bytes13</th><th>bytes19</th><th>bytes16</th><th>float32</th><th>float32</th><th>float32</th><th>float32</th><th>float32</th><th>float32</th><th>float64</th><th>float64</th><th>float64</th><th>float32</th><th>float32</th><th>float64</th><th>float32</th><th>bytes19</th><th>bytes31</th><th>float64</th><th>float64</th><th>float64</th><th>float64</th><th>float64</th><th>int64</th><th>bytes32</th><th>float64</th><th>bytes17</th><th>bytes15</th><th>bytes32</th><th>bytes28</th><th>int64</th><th>bytes10</th><th>float64</th><th>float64</th><th>float64</th><th>bytes5</th><th>bytes13</th><th>bytes6</th><th>bytes6</th><th>bool</th><th>bool</th><th>bool</th><th>float64</th><th>float64</th><th>int64</th><th>int64</th><th>int64</th><th>bool</th><th>float64</th><th>int64</th><th>int64</th><th>bool</th><th>int64</th><th>float64</th><th>float64</th><th>float64</th><th>float64</th><th>float64</th><th>bytes10</th><th>float64</th><th>int64</th><th>bytes16</th><th>float64</th></tr></thead>\n",
       "<tr><td>HD 106906</td><td>HD 106906</td><td>HIP 59960</td><td>12 17 53.1914</td><td>-55 58 31.890</td><td>Star</td><td>F5V</td><td>8.89</td><td>8.46</td><td>1e+20</td><td>6.946</td><td>6.759</td><td>6.683</td><td>41.08260678194606</td><td>-39.014</td><td>-12.872</td><td>0.057</td><td>0.046</td><td>9.677</td><td>0.0429</td><td>2018yCat.1345....0G</td><td>HIP 59960</td><td>184.4716308333333</td><td>-55.975525000000005</td><td>184.471066</td><td>-55.97514</td><td>1.6727752923588137</td><td>2</td><td>HD 106906B</td><td>7.197051030617626</td><td>brownD*</td><td>L2.5</td><td>-10000</td><td>none</td><td>0</td><td>2015-07-04</td><td>57207.02657997</td><td>57207.03298149</td><td>57207.02838658223</td><td>IRDIS</td><td>BB_Ks</td><td>OPEN</td><td>N/A</td><td>False</td><td>False</td><td>True</td><td>4.0</td><td>16.0</td><td>1</td><td>9</td><td>2</td><td>True</td><td>0.0</td><td>0</td><td>0</td><td>True</td><td>3</td><td>0.0010888888888888888</td><td>9.938079899999061e-05</td><td>1.0983333333333334</td><td>0.9407827710062628</td><td>1.329</td><td>FIELD</td><td>0.05</td><td>200358986</td><td>095.C-0298(C)</td><td>0.6739200000000001</td></tr>\n",
       "<tr><td>HD 106906</td><td>HD 106906</td><td>HIP 59960</td><td>12 17 53.1914</td><td>-55 58 31.890</td><td>Star</td><td>F5V</td><td>8.89</td><td>8.46</td><td>1e+20</td><td>6.946</td><td>6.759</td><td>6.683</td><td>41.08260678194606</td><td>-39.014</td><td>-12.872</td><td>0.057</td><td>0.046</td><td>9.677</td><td>0.0429</td><td>2018yCat.1345....0G</td><td>HIP 59960</td><td>184.4716308333333</td><td>-55.975525000000005</td><td>184.471066</td><td>-55.97514</td><td>1.6727752923588137</td><td>2</td><td>HD 106906B</td><td>7.197051030617626</td><td>brownD*</td><td>L2.5</td><td>-10000</td><td>none</td><td>0</td><td>2015-07-04</td><td>57207.00290623</td><td>57207.01728053</td><td>57207.00670980001</td><td>IRDIS</td><td>DB_K12</td><td>OPEN</td><td>ND_1.0</td><td>False</td><td>False</td><td>False</td><td>16.0</td><td>64.0</td><td>5</td><td>3</td><td>1</td><td>False</td><td>0.0</td><td>0</td><td>1</td><td>True</td><td>3</td><td>0.0014333333333333333</td><td>4.714045207910318e-05</td><td>1.2516666666666667</td><td>0.0913175168786849</td><td>1.2659999999999998</td><td>PUPIL</td><td>0.05</td><td>200358971</td><td>095.C-0298(C)</td><td>0.24192000000000002</td></tr>\n",
       "<tr><td>HD 114174</td><td>HD 114174</td><td>HIP 64150</td><td>13 08 51.0231</td><td>+05 12 26.064</td><td>**</td><td>G3IV+D</td><td>1e+20</td><td>6.3</td><td>1e+20</td><td>5.613</td><td>5.312</td><td>5.202</td><td>685.5932684828521</td><td>85.365</td><td>-680.258</td><td>0.082</td><td>0.071</td><td>37.914</td><td>0.0517</td><td>2018yCat.1345....0G</td><td>hd114174</td><td>197.21259624999996</td><td>5.2072400000000005</td><td>197.212788</td><td>5.20396</td><td>nan</td><td>0</td><td>none</td><td>0.0</td><td>none</td><td>none</td><td>none</td><td>none</td><td>0</td><td>2015-07-04</td><td>57207.94908515</td><td>57207.97937416</td><td>57207.96546368799</td><td>IRDIS</td><td>DB_H23</td><td>OPEN</td><td>ND_2.0</td><td>False</td><td>False</td><td>False</td><td>42.666666666666664</td><td>32.0</td><td>8</td><td>10</td><td>1</td><td>False</td><td>0.0</td><td>0</td><td>1</td><td>True</td><td>0</td><td>0.0026500000000000004</td><td>0.00018574175621006718</td><td>-0.3125</td><td>0.8897422379543415</td><td>1.1542</td><td>PUPIL</td><td>0.03</td><td>200359019</td><td>095.C-0298(C)</td><td>0.7776000000000001</td></tr>\n",
       "<tr><td>HD 169142</td><td>HD 169142</td><td></td><td>18 24 29.7799</td><td>-29 46 49.328</td><td>Ae*</td><td>F1VekA3mA3_lB?</td><td>8.16</td><td>1e+20</td><td>1e+20</td><td>7.31</td><td>6.911</td><td>6.41</td><td>37.867136358589356</td><td>-2.320</td><td>-37.796</td><td>0.112</td><td>0.093</td><td>8.775</td><td>0.0636</td><td>2018yCat.1345....0G</td><td>HD169142</td><td>276.1240829166666</td><td>-29.780368888888887</td><td>276.12378</td><td>-29.78003</td><td>2.0224285825234953</td><td>4</td><td>2MASS J18242929-2946559</td><td>9.711634910904744</td><td>TTau*</td><td></td><td>9.27</td><td>HD 169142b</td><td>1</td><td>2015-07-04</td><td>57207.09266336</td><td>57207.10476976</td><td>57207.103233425005</td><td>IRDIS</td><td>DB_K12</td><td>OPEN</td><td>ND_1.0</td><td>False</td><td>False</td><td>False</td><td>8.533333333333333</td><td>64.0</td><td>4</td><td>2</td><td>2</td><td>False</td><td>0.837464</td><td>27</td><td>2</td><td>False</td><td>0</td><td>0.0018</td><td>0.0</td><td>1.105</td><td>0.015000000000000013</td><td>1.105</td><td>PUPIL</td><td>0.04</td><td>200358992</td><td>095.C-0298(C)</td><td>0.16128</td></tr>\n",
       "<tr><td>TYC 1718-851-1</td><td></td><td></td><td>23 07 24.5842</td><td>+21 08 01.065</td><td>Star</td><td>G0</td><td>9.75</td><td>1e+20</td><td>1e+20</td><td>7.574</td><td>6.975</td><td>6.843</td><td>25.980693793661473</td><td>-19.915</td><td>-16.685</td><td>0.066</td><td>0.047</td><td>2.085</td><td>0.0352</td><td>2018yCat.1345....0G</td><td>HIP_114189</td><td>346.8524341666666</td><td>21.133629166666665</td><td>346.869375</td><td>21.13388</td><td>57.20566752775243</td><td>0</td><td>none</td><td>0.0</td><td>none</td><td>none</td><td>none</td><td>HD 218396b</td><td>1</td><td>2015-07-04</td><td>57207.37649755</td><td>57207.4436882</td><td>57207.41209266933</td><td>IRDIS</td><td>DB_K12</td><td>OPEN</td><td>ND_2.0</td><td>False</td><td>False</td><td>False</td><td>64.0</td><td>32.0</td><td>8</td><td>15</td><td>3</td><td>False</td><td>4.0</td><td>8</td><td>2</td><td>False</td><td>3</td><td>0.0020066666666666666</td><td>0.00026195843605851337</td><td>-0.24333333333333335</td><td>0.961234738355945</td><td>1.4883333333333333</td><td>PUPIL</td><td>0.05</td><td>200359002</td><td>095.C-0298(C)</td><td>1.2096000000000002</td></tr>\n",
       "</table>"
      ],
      "text/plain": [
       "<Table length=5>\n",
       "   MAIN_ID       HD_ID     HIP_ID  ...  OBS_PROG_ID    TOTAL_FILE_SIZE  \n",
       "                                   ...                                  \n",
       "   bytes29      bytes10   bytes10  ...    bytes16          float64      \n",
       "-------------- --------- --------- ... ------------- -------------------\n",
       "     HD 106906 HD 106906 HIP 59960 ... 095.C-0298(C)  0.6739200000000001\n",
       "     HD 106906 HD 106906 HIP 59960 ... 095.C-0298(C) 0.24192000000000002\n",
       "     HD 114174 HD 114174 HIP 64150 ... 095.C-0298(C)  0.7776000000000001\n",
       "     HD 169142 HD 169142           ... 095.C-0298(C)             0.16128\n",
       "TYC 1718-851-1                     ... 095.C-0298(C)  1.2096000000000002"
      ]
     },
     "execution_count": 17,
     "metadata": {},
     "output_type": "execute_result"
    }
   ],
   "source": [
    "table_of_observations[table_of_observations['DATE_SHORT'] == '2015-07-04']"
   ]
  },
  {
   "cell_type": "code",
   "execution_count": 72,
   "metadata": {},
   "outputs": [],
   "source": [
    "gto_phot = database.observations_from_name_SIMBAD(['51 eri'], summary='SUMMARY', usable_only=False)\n",
    "gto_phot.show_in_browser(jsviewer=True)"
   ]
  },
  {
   "cell_type": "code",
   "execution_count": 9,
   "metadata": {},
   "outputs": [],
   "source": [
    "gto_phot = database_gto.observations_from_name_SIMBAD(['HD2133'], summary=None, usable_only=False)\n",
    "gto_phot.show_in_browser(jsviewer=True)"
   ]
  },
  {
   "cell_type": "markdown",
   "metadata": {},
   "source": [
    "Best conditions (Mean FWHM)\n",
    "\n",
    "White Dwarfs\n",
    "Hot\n",
    "CD-56 7708 DB_H23 2017-04-29\n",
    "CD-56 7708 DB_K12 2016-10-14\n",
    "HD 2133 DB_H23 2016-11-18 (bad leakage! example for when center doesn't work)\n",
    "HD 2133 DB_K12 2016-06-13\n",
    "\n",
    "Cold\n",
    "HD 114174 DB_H23 2015-05-04\n",
    "HD 114174 DB_K12 2017-02-08\n",
    "\n",
    "Sirius-like single star\n",
    "HD 84503 DB_H23 2016-04-16\n",
    "HD 84503 DB_K12 2016-01-02\n"
   ]
  },
  {
   "cell_type": "code",
   "execution_count": 3,
   "metadata": {
    "scrolled": true
   },
   "outputs": [
    {
     "name": "stderr",
     "output_type": "stream",
     "text": [
      "WARNING: MergeConflictWarning: Cannot merge meta key 'description' types <class 'str'> and <class 'str'>, choosing description='Simbad script executed on 2018.02.22CET16:16:25' [astropy.utils.metadata]\n"
     ]
    }
   ],
   "source": [
    "# many_observations = database_gto.observations_from_name(['beta pictoris', '51 Eri', 'GQ Lup'], 'SHORT', usable_only=True)\n",
    "# many_observations = database_gto.observations_from_name_SIMBAD(['HIP65426', '51 Eri'], 'SUMMARY', usable_only=True)\n",
    "# many_observations = database_gto.observations_from_name(['EM* AS 220'], 'SHORT', usable_only=False)\n",
    "# many_observations = database_gto.observations_from_name(['HIP65426'], 'SHORT', usable_only=True)\n",
    "# many_observations = database_non_gto.observations_from_name(['HD 104231'], 'SUMMARY', usable_only=False)\n",
    "# many_observations = database_non_gto.observations_from_name(['HR8799'], 'SUMMARY', usable_only=False)\n",
    "# many_observations = database_gto.observations_from_name(['CD-65149'], 'SUMMARY', usable_only=False)\n",
    "# many_observations = database_gto.observations_from_name(['beta pictoris'], 'SHORT', usable_only=True)\n",
    "\n"
   ]
  },
  {
   "cell_type": "code",
   "execution_count": 67,
   "metadata": {},
   "outputs": [
    {
     "ename": "NameError",
     "evalue": "name 'database_gto' is not defined",
     "output_type": "error",
     "traceback": [
      "\u001b[0;31m--------------------------------------------------------\u001b[0m",
      "\u001b[0;31mNameError\u001b[0m              Traceback (most recent call last)",
      "\u001b[0;32m<ipython-input-67-66c59172c754>\u001b[0m in \u001b[0;36m<module>\u001b[0;34m\u001b[0m\n\u001b[0;32m----> 1\u001b[0;31m \u001b[0mmany_observations\u001b[0m \u001b[0;34m=\u001b[0m \u001b[0mdatabase_gto\u001b[0m\u001b[0;34m.\u001b[0m\u001b[0mobservations_from_name_SIMBAD\u001b[0m\u001b[0;34m(\u001b[0m\u001b[0;34m[\u001b[0m\u001b[0;34m'CI Tau'\u001b[0m\u001b[0;34m]\u001b[0m\u001b[0;34m,\u001b[0m \u001b[0;34m'SUMMARY'\u001b[0m\u001b[0;34m,\u001b[0m \u001b[0musable_only\u001b[0m\u001b[0;34m=\u001b[0m\u001b[0;32mTrue\u001b[0m\u001b[0;34m)\u001b[0m\u001b[0;34m\u001b[0m\u001b[0;34m\u001b[0m\u001b[0m\n\u001b[0m\u001b[1;32m      2\u001b[0m \u001b[0;31m# many_observations = database_IFS_gto.observations_from_name_SIMBAD(['51 Eri'], 'SUMMARY', usable_only=True)\u001b[0m\u001b[0;34m\u001b[0m\u001b[0;34m\u001b[0m\u001b[0;34m\u001b[0m\u001b[0m\n\u001b[1;32m      3\u001b[0m \u001b[0mmany_observations\u001b[0m\u001b[0;34m.\u001b[0m\u001b[0mshow_in_browser\u001b[0m\u001b[0;34m(\u001b[0m\u001b[0mjsviewer\u001b[0m\u001b[0;34m=\u001b[0m\u001b[0;32mTrue\u001b[0m\u001b[0;34m)\u001b[0m\u001b[0;34m\u001b[0m\u001b[0;34m\u001b[0m\u001b[0m\n",
      "\u001b[0;31mNameError\u001b[0m: name 'database_gto' is not defined"
     ]
    }
   ],
   "source": [
    "many_observations = database_gto.observations_from_name_SIMBAD(['CI Tau'], 'SUMMARY', usable_only=True)\n",
    "# many_observations = database_IFS_gto.observations_from_name_SIMBAD(['51 Eri'], 'SUMMARY', usable_only=True)\n",
    "many_observations.show_in_browser(jsviewer=True)"
   ]
  },
  {
   "cell_type": "code",
   "execution_count": 8,
   "metadata": {},
   "outputs": [
    {
     "name": "stderr",
     "output_type": "stream",
     "text": [
      "WARNING: MergeConflictWarning: Cannot merge meta key 'description' types <class 'str'> and <class 'str'>, choosing description='Simbad script executed on 2018.03.09CET16:28:44' [astropy.utils.metadata]\n"
     ]
    },
    {
     "data": {
      "text/html": [
       "<i>Table masked=True length=0</i>\n",
       "<table id=\"table140270797981960\" class=\"table-striped table-bordered table-condensed\">\n",
       "<thead><tr><th>MAIN_ID</th><th>HD_ID</th><th>HIP_ID</th><th>RA</th><th>DEC</th><th>OTYPE</th><th>SP_TYPE</th><th>FLUX_H</th><th>STARS_IN_CONE</th><th>NEAREST_STAR</th><th>SEPARATION_NEAREST</th><th>NEAREST_OTYPE</th><th>NEAREST_STYPE</th><th>NEAREST_FLUX_H</th><th>COMPANION_NAME</th><th>NUMBER_COMPANIONS</th><th>DATE_SHORT</th><th>DB_FILTER</th><th>WAFFLE_MODE</th><th>FAILED_SEQ</th><th>TOTAL_EXPTIME</th><th>MEAN_FWHM</th><th>TOTAL_FILE_SIZE</th></tr></thead>\n",
       "<thead><tr><th></th><th></th><th></th><th>&quot;h:m:s&quot;</th><th>&quot;d:m:s&quot;</th><th></th><th></th><th>mag</th><th></th><th></th><th>arcsec</th><th></th><th></th><th></th><th></th><th></th><th></th><th></th><th></th><th></th><th></th><th></th><th></th></tr></thead>\n",
       "<thead><tr><th>bytes25</th><th>bytes10</th><th>bytes10</th><th>bytes13</th><th>bytes13</th><th>bytes14</th><th>bytes21</th><th>float32</th><th>int64</th><th>bytes32</th><th>float64</th><th>bytes13</th><th>bytes10</th><th>bytes6</th><th>bytes24</th><th>int64</th><th>bytes10</th><th>bytes13</th><th>int64</th><th>int64</th><th>float64</th><th>float64</th><th>float64</th></tr></thead>\n",
       "</table>"
      ],
      "text/plain": [
       "<Table masked=True length=0>\n",
       "MAIN_ID  HD_ID   HIP_ID    RA   ... TOTAL_EXPTIME MEAN_FWHM TOTAL_FILE_SIZE\n",
       "                        \"h:m:s\" ...                                        \n",
       "bytes25 bytes10 bytes10 bytes13 ...    float64     float64      float64    \n",
       "------- ------- ------- ------- ... ------------- --------- ---------------"
      ]
     },
     "execution_count": 8,
     "metadata": {},
     "output_type": "execute_result"
    }
   ],
   "source": [
    "# beta_pic_non_gto = database_non_gto.observations_from_name(['HD 114174', 'HD223816'], 'NORMAL')\n",
    "# beta_pic_non_gto = database_non_gto.observations_from_name(['HD 114174', 'HD223816'], 'NORMAL')\n",
    "beta_pic_non_gto"
   ]
  },
  {
   "cell_type": "markdown",
   "metadata": {},
   "source": [
    "The retrieved astropy tables can be used as any normal astropy table. So \"show_in_browser(jsviewer=True)\" displays them in your browser with javascript. \"beta_pic_short.write('Beta_pic_table.fits')\" would save it to your folder etc."
   ]
  },
  {
   "cell_type": "code",
   "execution_count": 10,
   "metadata": {
    "collapsed": true,
    "jupyter": {
     "outputs_hidden": true
    }
   },
   "outputs": [],
   "source": [
    "beta_pic_table.show_in_browser(jsviewer=True)"
   ]
  },
  {
   "cell_type": "code",
   "execution_count": 15,
   "metadata": {},
   "outputs": [
    {
     "data": {
      "text/plain": [
       "['MAIN_ID',\n",
       " 'HD_ID',\n",
       " 'HIP_ID',\n",
       " 'RA',\n",
       " 'DEC',\n",
       " 'OTYPE',\n",
       " 'SP_TYPE',\n",
       " 'FLUX_V',\n",
       " 'FLUX_R',\n",
       " 'FLUX_I',\n",
       " 'FLUX_J',\n",
       " 'FLUX_H',\n",
       " 'FLUX_K',\n",
       " 'ABS_PM',\n",
       " 'PM_RA',\n",
       " 'PM_DEC',\n",
       " 'PM_RA_ERR',\n",
       " 'PM_DEC_ERR',\n",
       " 'PLX',\n",
       " 'PLX_ERR',\n",
       " 'PLX_BIBCODE',\n",
       " 'OBJ_HEADER',\n",
       " 'RA_DEG',\n",
       " 'DEC_DEG',\n",
       " 'RA_HEADER',\n",
       " 'DEC_HEADER',\n",
       " 'POS_DIFF',\n",
       " 'STARS_IN_CONE',\n",
       " 'NEAREST_STAR',\n",
       " 'SEPARATION_NEAREST',\n",
       " 'NEAREST_OTYPE',\n",
       " 'NEAREST_STYPE',\n",
       " 'NEAREST_FLUX_H',\n",
       " 'COMPANION_NAME',\n",
       " 'NUMBER_COMPANIONS',\n",
       " 'DATE_SHORT',\n",
       " 'OBS_START',\n",
       " 'OBS_END',\n",
       " 'MJD_MEAN',\n",
       " 'INSTRUMENT',\n",
       " 'DB_FILTER',\n",
       " 'ND_FILTER',\n",
       " 'ND_FILTER_FLUX',\n",
       " 'WAFFLE_MODE',\n",
       " 'NON_CORO_MODE',\n",
       " 'FAILED_SEQ',\n",
       " 'TOTAL_EXPTIME',\n",
       " 'DIT',\n",
       " 'NDIT',\n",
       " 'NCUBES',\n",
       " 'NCENTER',\n",
       " 'SCI_DIT_FLAG',\n",
       " 'DIT_FLUX',\n",
       " 'NDIT_FLUX',\n",
       " 'NFLUX',\n",
       " 'FLUX_FLAG',\n",
       " 'NSKY',\n",
       " 'MEAN_TAU',\n",
       " 'STDDEV_TAU',\n",
       " 'MEAN_FWHM',\n",
       " 'STDDEV_FWHM',\n",
       " 'MEAN_AIRMASS',\n",
       " 'DEROTATOR_MODE',\n",
       " 'WAFFLE_AMP',\n",
       " 'OBS_ID',\n",
       " 'OBS_PROG_ID',\n",
       " 'TOTAL_FILE_SIZE']"
      ]
     },
     "execution_count": 15,
     "metadata": {},
     "output_type": "execute_result"
    }
   ],
   "source": [
    "database_gto.table_of_observations.colnames"
   ]
  },
  {
   "cell_type": "code",
   "execution_count": 7,
   "metadata": {},
   "outputs": [],
   "source": [
    "a = database_gto.table_of_observations\n",
    "mask = np.logical_and.reduce([a['DIT'] < 64, a['TOTAL_EXPTIME'] > 35, a['DEROTATOR_MODE'] == 'PUPIL', a['FAILED_SEQ'] == False, a['WAFFLE_MODE'] == True])"
   ]
  },
  {
   "cell_type": "code",
   "execution_count": 8,
   "metadata": {},
   "outputs": [],
   "source": [
    "b = database_non_gto.table_of_observations\n",
    "non_gto_mask = np.logical_and.reduce([b['DIT'] < 64, b['TOTAL_EXPTIME'] > 35, b['DEROTATOR_MODE'] == 'PUPIL', b['FAILED_SEQ'] == False, b['WAFFLE_MODE'] == True])"
   ]
  },
  {
   "cell_type": "code",
   "execution_count": 30,
   "metadata": {},
   "outputs": [
    {
     "data": {
      "text/plain": [
       "array([False, False, False, ..., False, False, False])"
      ]
     },
     "execution_count": 30,
     "metadata": {},
     "output_type": "execute_result"
    }
   ],
   "source": [
    "mask"
   ]
  },
  {
   "cell_type": "code",
   "execution_count": 10,
   "metadata": {},
   "outputs": [],
   "source": [
    "database_gto.table_of_observations = database_gto.table_of_observations[mask]\n",
    "database_non_gto.table_of_observations = database_non_gto.table_of_observations[non_gto_mask]"
   ]
  },
  {
   "cell_type": "code",
   "execution_count": 11,
   "metadata": {},
   "outputs": [],
   "source": [
    "database_gto.show_in_browser(summary='MEDIUM')"
   ]
  },
  {
   "cell_type": "code",
   "execution_count": 12,
   "metadata": {},
   "outputs": [],
   "source": [
    "database_non_gto.show_in_browser(summary='MEDIUM')"
   ]
  },
  {
   "cell_type": "code",
   "execution_count": null,
   "metadata": {},
   "outputs": [],
   "source": []
  }
 ],
 "metadata": {
  "kernelspec": {
   "display_name": "Python 3 (ipykernel)",
   "language": "python",
   "name": "python3"
  },
  "language_info": {
   "codemirror_mode": {
    "name": "ipython",
    "version": 3
   },
   "file_extension": ".py",
   "mimetype": "text/x-python",
   "name": "python",
   "nbconvert_exporter": "python",
   "pygments_lexer": "ipython3",
   "version": "3.11.8"
  }
 },
 "nbformat": 4,
 "nbformat_minor": 4
}
